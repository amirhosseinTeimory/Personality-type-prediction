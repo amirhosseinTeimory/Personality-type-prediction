{
  "nbformat": 4,
  "nbformat_minor": 0,
  "metadata": {
    "colab": {
      "provenance": [],
      "authorship_tag": "ABX9TyN1GOq9mxzrruaVArlRFf1D",
      "include_colab_link": true
    },
    "kernelspec": {
      "name": "python3",
      "display_name": "Python 3"
    },
    "language_info": {
      "name": "python"
    }
  },
  "cells": [
    {
      "cell_type": "markdown",
      "metadata": {
        "id": "view-in-github",
        "colab_type": "text"
      },
      "source": [
        "<a href=\"https://colab.research.google.com/github/amirhosseinTeimory/Personality-type-prediction/blob/main/decisionTree.ipynb\" target=\"_parent\"><img src=\"https://colab.research.google.com/assets/colab-badge.svg\" alt=\"Open In Colab\"/></a>"
      ]
    },
    {
      "cell_type": "markdown",
      "source": [],
      "metadata": {
        "id": "AYa-VMfp8u6L"
      }
    },
    {
      "cell_type": "code",
      "source": [
        "import pandas as pd\n",
        "import numpy as np\n",
        "from sklearn.preprocessing import LabelEncoder\n",
        "from sklearn.model_selection import train_test_split\n",
        "from sklearn.tree import DecisionTreeClassifier\n",
        "from sklearn import tree\n",
        "from sklearn import metrics\n",
        "\n",
        "\n",
        "import os\n",
        "for dirname, _, filenames in os.walk('/kaggle/input'):\n",
        "    for filename in filenames:\n",
        "        print(os.path.join(dirname, filename))"
      ],
      "metadata": {
        "id": "oywhVG6pxEiq"
      },
      "execution_count": 3,
      "outputs": []
    },
    {
      "cell_type": "code",
      "source": [
        "data1 = pd.read_csv(\"data.csv\")\n",
        "data1.head()"
      ],
      "metadata": {
        "colab": {
          "base_uri": "https://localhost:8080/",
          "height": 243
        },
        "id": "On60gI1Z2aXL",
        "outputId": "024214ce-7897-45d2-a1cc-dd177041d2aa"
      },
      "execution_count": 9,
      "outputs": [
        {
          "output_type": "execute_result",
          "data": {
            "text/plain": [
              "    Age  Gender  Education  Introversion Score  Sensing Score  Thinking Score  \\\n",
              "0  19.0    Male          0             9.47080       7.141434         6.03696   \n",
              "1  27.0  Female          0             5.85392       6.160195         0.80552   \n",
              "2  21.0  Female          0             7.08615       3.388433         2.66188   \n",
              "3  28.0    Male          0             2.01892       4.823624         7.30625   \n",
              "4  36.0  Female          1             9.91703       4.755080         5.31469   \n",
              "\n",
              "   Judging Score    Interest Personality  \n",
              "0       4.360278     Unknown        ENFP  \n",
              "1       4.221421      Sports        ESFP  \n",
              "2       5.127320     Unknown        ENFP  \n",
              "3       5.986550      Others        INTP  \n",
              "4       4.677213  Technology        ENFP  "
            ],
            "text/html": [
              "\n",
              "  <div id=\"df-87b3bff1-8f52-44e3-bf13-43a5f4163dc8\" class=\"colab-df-container\">\n",
              "    <div>\n",
              "<style scoped>\n",
              "    .dataframe tbody tr th:only-of-type {\n",
              "        vertical-align: middle;\n",
              "    }\n",
              "\n",
              "    .dataframe tbody tr th {\n",
              "        vertical-align: top;\n",
              "    }\n",
              "\n",
              "    .dataframe thead th {\n",
              "        text-align: right;\n",
              "    }\n",
              "</style>\n",
              "<table border=\"1\" class=\"dataframe\">\n",
              "  <thead>\n",
              "    <tr style=\"text-align: right;\">\n",
              "      <th></th>\n",
              "      <th>Age</th>\n",
              "      <th>Gender</th>\n",
              "      <th>Education</th>\n",
              "      <th>Introversion Score</th>\n",
              "      <th>Sensing Score</th>\n",
              "      <th>Thinking Score</th>\n",
              "      <th>Judging Score</th>\n",
              "      <th>Interest</th>\n",
              "      <th>Personality</th>\n",
              "    </tr>\n",
              "  </thead>\n",
              "  <tbody>\n",
              "    <tr>\n",
              "      <th>0</th>\n",
              "      <td>19.0</td>\n",
              "      <td>Male</td>\n",
              "      <td>0</td>\n",
              "      <td>9.47080</td>\n",
              "      <td>7.141434</td>\n",
              "      <td>6.03696</td>\n",
              "      <td>4.360278</td>\n",
              "      <td>Unknown</td>\n",
              "      <td>ENFP</td>\n",
              "    </tr>\n",
              "    <tr>\n",
              "      <th>1</th>\n",
              "      <td>27.0</td>\n",
              "      <td>Female</td>\n",
              "      <td>0</td>\n",
              "      <td>5.85392</td>\n",
              "      <td>6.160195</td>\n",
              "      <td>0.80552</td>\n",
              "      <td>4.221421</td>\n",
              "      <td>Sports</td>\n",
              "      <td>ESFP</td>\n",
              "    </tr>\n",
              "    <tr>\n",
              "      <th>2</th>\n",
              "      <td>21.0</td>\n",
              "      <td>Female</td>\n",
              "      <td>0</td>\n",
              "      <td>7.08615</td>\n",
              "      <td>3.388433</td>\n",
              "      <td>2.66188</td>\n",
              "      <td>5.127320</td>\n",
              "      <td>Unknown</td>\n",
              "      <td>ENFP</td>\n",
              "    </tr>\n",
              "    <tr>\n",
              "      <th>3</th>\n",
              "      <td>28.0</td>\n",
              "      <td>Male</td>\n",
              "      <td>0</td>\n",
              "      <td>2.01892</td>\n",
              "      <td>4.823624</td>\n",
              "      <td>7.30625</td>\n",
              "      <td>5.986550</td>\n",
              "      <td>Others</td>\n",
              "      <td>INTP</td>\n",
              "    </tr>\n",
              "    <tr>\n",
              "      <th>4</th>\n",
              "      <td>36.0</td>\n",
              "      <td>Female</td>\n",
              "      <td>1</td>\n",
              "      <td>9.91703</td>\n",
              "      <td>4.755080</td>\n",
              "      <td>5.31469</td>\n",
              "      <td>4.677213</td>\n",
              "      <td>Technology</td>\n",
              "      <td>ENFP</td>\n",
              "    </tr>\n",
              "  </tbody>\n",
              "</table>\n",
              "</div>\n",
              "    <div class=\"colab-df-buttons\">\n",
              "\n",
              "  <div class=\"colab-df-container\">\n",
              "    <button class=\"colab-df-convert\" onclick=\"convertToInteractive('df-87b3bff1-8f52-44e3-bf13-43a5f4163dc8')\"\n",
              "            title=\"Convert this dataframe to an interactive table.\"\n",
              "            style=\"display:none;\">\n",
              "\n",
              "  <svg xmlns=\"http://www.w3.org/2000/svg\" height=\"24px\" viewBox=\"0 -960 960 960\">\n",
              "    <path d=\"M120-120v-720h720v720H120Zm60-500h600v-160H180v160Zm220 220h160v-160H400v160Zm0 220h160v-160H400v160ZM180-400h160v-160H180v160Zm440 0h160v-160H620v160ZM180-180h160v-160H180v160Zm440 0h160v-160H620v160Z\"/>\n",
              "  </svg>\n",
              "    </button>\n",
              "\n",
              "  <style>\n",
              "    .colab-df-container {\n",
              "      display:flex;\n",
              "      gap: 12px;\n",
              "    }\n",
              "\n",
              "    .colab-df-convert {\n",
              "      background-color: #E8F0FE;\n",
              "      border: none;\n",
              "      border-radius: 50%;\n",
              "      cursor: pointer;\n",
              "      display: none;\n",
              "      fill: #1967D2;\n",
              "      height: 32px;\n",
              "      padding: 0 0 0 0;\n",
              "      width: 32px;\n",
              "    }\n",
              "\n",
              "    .colab-df-convert:hover {\n",
              "      background-color: #E2EBFA;\n",
              "      box-shadow: 0px 1px 2px rgba(60, 64, 67, 0.3), 0px 1px 3px 1px rgba(60, 64, 67, 0.15);\n",
              "      fill: #174EA6;\n",
              "    }\n",
              "\n",
              "    .colab-df-buttons div {\n",
              "      margin-bottom: 4px;\n",
              "    }\n",
              "\n",
              "    [theme=dark] .colab-df-convert {\n",
              "      background-color: #3B4455;\n",
              "      fill: #D2E3FC;\n",
              "    }\n",
              "\n",
              "    [theme=dark] .colab-df-convert:hover {\n",
              "      background-color: #434B5C;\n",
              "      box-shadow: 0px 1px 3px 1px rgba(0, 0, 0, 0.15);\n",
              "      filter: drop-shadow(0px 1px 2px rgba(0, 0, 0, 0.3));\n",
              "      fill: #FFFFFF;\n",
              "    }\n",
              "  </style>\n",
              "\n",
              "    <script>\n",
              "      const buttonEl =\n",
              "        document.querySelector('#df-87b3bff1-8f52-44e3-bf13-43a5f4163dc8 button.colab-df-convert');\n",
              "      buttonEl.style.display =\n",
              "        google.colab.kernel.accessAllowed ? 'block' : 'none';\n",
              "\n",
              "      async function convertToInteractive(key) {\n",
              "        const element = document.querySelector('#df-87b3bff1-8f52-44e3-bf13-43a5f4163dc8');\n",
              "        const dataTable =\n",
              "          await google.colab.kernel.invokeFunction('convertToInteractive',\n",
              "                                                    [key], {});\n",
              "        if (!dataTable) return;\n",
              "\n",
              "        const docLinkHtml = 'Like what you see? Visit the ' +\n",
              "          '<a target=\"_blank\" href=https://colab.research.google.com/notebooks/data_table.ipynb>data table notebook</a>'\n",
              "          + ' to learn more about interactive tables.';\n",
              "        element.innerHTML = '';\n",
              "        dataTable['output_type'] = 'display_data';\n",
              "        await google.colab.output.renderOutput(dataTable, element);\n",
              "        const docLink = document.createElement('div');\n",
              "        docLink.innerHTML = docLinkHtml;\n",
              "        element.appendChild(docLink);\n",
              "      }\n",
              "    </script>\n",
              "  </div>\n",
              "\n",
              "\n",
              "<div id=\"df-2466b10b-fe26-4239-a063-6491868ac2b5\">\n",
              "  <button class=\"colab-df-quickchart\" onclick=\"quickchart('df-2466b10b-fe26-4239-a063-6491868ac2b5')\"\n",
              "            title=\"Suggest charts\"\n",
              "            style=\"display:none;\">\n",
              "\n",
              "<svg xmlns=\"http://www.w3.org/2000/svg\" height=\"24px\"viewBox=\"0 0 24 24\"\n",
              "     width=\"24px\">\n",
              "    <g>\n",
              "        <path d=\"M19 3H5c-1.1 0-2 .9-2 2v14c0 1.1.9 2 2 2h14c1.1 0 2-.9 2-2V5c0-1.1-.9-2-2-2zM9 17H7v-7h2v7zm4 0h-2V7h2v10zm4 0h-2v-4h2v4z\"/>\n",
              "    </g>\n",
              "</svg>\n",
              "  </button>\n",
              "\n",
              "<style>\n",
              "  .colab-df-quickchart {\n",
              "      --bg-color: #E8F0FE;\n",
              "      --fill-color: #1967D2;\n",
              "      --hover-bg-color: #E2EBFA;\n",
              "      --hover-fill-color: #174EA6;\n",
              "      --disabled-fill-color: #AAA;\n",
              "      --disabled-bg-color: #DDD;\n",
              "  }\n",
              "\n",
              "  [theme=dark] .colab-df-quickchart {\n",
              "      --bg-color: #3B4455;\n",
              "      --fill-color: #D2E3FC;\n",
              "      --hover-bg-color: #434B5C;\n",
              "      --hover-fill-color: #FFFFFF;\n",
              "      --disabled-bg-color: #3B4455;\n",
              "      --disabled-fill-color: #666;\n",
              "  }\n",
              "\n",
              "  .colab-df-quickchart {\n",
              "    background-color: var(--bg-color);\n",
              "    border: none;\n",
              "    border-radius: 50%;\n",
              "    cursor: pointer;\n",
              "    display: none;\n",
              "    fill: var(--fill-color);\n",
              "    height: 32px;\n",
              "    padding: 0;\n",
              "    width: 32px;\n",
              "  }\n",
              "\n",
              "  .colab-df-quickchart:hover {\n",
              "    background-color: var(--hover-bg-color);\n",
              "    box-shadow: 0 1px 2px rgba(60, 64, 67, 0.3), 0 1px 3px 1px rgba(60, 64, 67, 0.15);\n",
              "    fill: var(--button-hover-fill-color);\n",
              "  }\n",
              "\n",
              "  .colab-df-quickchart-complete:disabled,\n",
              "  .colab-df-quickchart-complete:disabled:hover {\n",
              "    background-color: var(--disabled-bg-color);\n",
              "    fill: var(--disabled-fill-color);\n",
              "    box-shadow: none;\n",
              "  }\n",
              "\n",
              "  .colab-df-spinner {\n",
              "    border: 2px solid var(--fill-color);\n",
              "    border-color: transparent;\n",
              "    border-bottom-color: var(--fill-color);\n",
              "    animation:\n",
              "      spin 1s steps(1) infinite;\n",
              "  }\n",
              "\n",
              "  @keyframes spin {\n",
              "    0% {\n",
              "      border-color: transparent;\n",
              "      border-bottom-color: var(--fill-color);\n",
              "      border-left-color: var(--fill-color);\n",
              "    }\n",
              "    20% {\n",
              "      border-color: transparent;\n",
              "      border-left-color: var(--fill-color);\n",
              "      border-top-color: var(--fill-color);\n",
              "    }\n",
              "    30% {\n",
              "      border-color: transparent;\n",
              "      border-left-color: var(--fill-color);\n",
              "      border-top-color: var(--fill-color);\n",
              "      border-right-color: var(--fill-color);\n",
              "    }\n",
              "    40% {\n",
              "      border-color: transparent;\n",
              "      border-right-color: var(--fill-color);\n",
              "      border-top-color: var(--fill-color);\n",
              "    }\n",
              "    60% {\n",
              "      border-color: transparent;\n",
              "      border-right-color: var(--fill-color);\n",
              "    }\n",
              "    80% {\n",
              "      border-color: transparent;\n",
              "      border-right-color: var(--fill-color);\n",
              "      border-bottom-color: var(--fill-color);\n",
              "    }\n",
              "    90% {\n",
              "      border-color: transparent;\n",
              "      border-bottom-color: var(--fill-color);\n",
              "    }\n",
              "  }\n",
              "</style>\n",
              "\n",
              "  <script>\n",
              "    async function quickchart(key) {\n",
              "      const quickchartButtonEl =\n",
              "        document.querySelector('#' + key + ' button');\n",
              "      quickchartButtonEl.disabled = true;  // To prevent multiple clicks.\n",
              "      quickchartButtonEl.classList.add('colab-df-spinner');\n",
              "      try {\n",
              "        const charts = await google.colab.kernel.invokeFunction(\n",
              "            'suggestCharts', [key], {});\n",
              "      } catch (error) {\n",
              "        console.error('Error during call to suggestCharts:', error);\n",
              "      }\n",
              "      quickchartButtonEl.classList.remove('colab-df-spinner');\n",
              "      quickchartButtonEl.classList.add('colab-df-quickchart-complete');\n",
              "    }\n",
              "    (() => {\n",
              "      let quickchartButtonEl =\n",
              "        document.querySelector('#df-2466b10b-fe26-4239-a063-6491868ac2b5 button');\n",
              "      quickchartButtonEl.style.display =\n",
              "        google.colab.kernel.accessAllowed ? 'block' : 'none';\n",
              "    })();\n",
              "  </script>\n",
              "</div>\n",
              "\n",
              "    </div>\n",
              "  </div>\n"
            ],
            "application/vnd.google.colaboratory.intrinsic+json": {
              "type": "dataframe",
              "variable_name": "data1"
            }
          },
          "metadata": {},
          "execution_count": 9
        }
      ]
    },
    {
      "cell_type": "code",
      "source": [
        "la = LabelEncoder()\n",
        "data1[\"Personality\"] = la.fit_transform(data1[\"Personality\"])\n",
        "data1[\"Interest\"] = la.fit_transform(data1[\"Interest\"])\n",
        "data1[\"Gender\"] = data1[\"Gender\"].map({\"Male\":0,\"Female\":1})\n"
      ],
      "metadata": {
        "id": "SNdQ5tpdp6jC"
      },
      "execution_count": 11,
      "outputs": []
    },
    {
      "cell_type": "code",
      "source": [
        "data1.isnull().sum()"
      ],
      "metadata": {
        "id": "yaUhbTVK2Lcn",
        "colab": {
          "base_uri": "https://localhost:8080/",
          "height": 366
        },
        "outputId": "08026a45-bc54-4635-a1af-8b7987e24404"
      },
      "execution_count": 12,
      "outputs": [
        {
          "output_type": "execute_result",
          "data": {
            "text/plain": [
              "Age                   0\n",
              "Gender                0\n",
              "Education             0\n",
              "Introversion Score    0\n",
              "Sensing Score         0\n",
              "Thinking Score        0\n",
              "Judging Score         0\n",
              "Interest              0\n",
              "Personality           0\n",
              "dtype: int64"
            ],
            "text/html": [
              "<div>\n",
              "<style scoped>\n",
              "    .dataframe tbody tr th:only-of-type {\n",
              "        vertical-align: middle;\n",
              "    }\n",
              "\n",
              "    .dataframe tbody tr th {\n",
              "        vertical-align: top;\n",
              "    }\n",
              "\n",
              "    .dataframe thead th {\n",
              "        text-align: right;\n",
              "    }\n",
              "</style>\n",
              "<table border=\"1\" class=\"dataframe\">\n",
              "  <thead>\n",
              "    <tr style=\"text-align: right;\">\n",
              "      <th></th>\n",
              "      <th>0</th>\n",
              "    </tr>\n",
              "  </thead>\n",
              "  <tbody>\n",
              "    <tr>\n",
              "      <th>Age</th>\n",
              "      <td>0</td>\n",
              "    </tr>\n",
              "    <tr>\n",
              "      <th>Gender</th>\n",
              "      <td>0</td>\n",
              "    </tr>\n",
              "    <tr>\n",
              "      <th>Education</th>\n",
              "      <td>0</td>\n",
              "    </tr>\n",
              "    <tr>\n",
              "      <th>Introversion Score</th>\n",
              "      <td>0</td>\n",
              "    </tr>\n",
              "    <tr>\n",
              "      <th>Sensing Score</th>\n",
              "      <td>0</td>\n",
              "    </tr>\n",
              "    <tr>\n",
              "      <th>Thinking Score</th>\n",
              "      <td>0</td>\n",
              "    </tr>\n",
              "    <tr>\n",
              "      <th>Judging Score</th>\n",
              "      <td>0</td>\n",
              "    </tr>\n",
              "    <tr>\n",
              "      <th>Interest</th>\n",
              "      <td>0</td>\n",
              "    </tr>\n",
              "    <tr>\n",
              "      <th>Personality</th>\n",
              "      <td>0</td>\n",
              "    </tr>\n",
              "  </tbody>\n",
              "</table>\n",
              "</div><br><label><b>dtype:</b> int64</label>"
            ]
          },
          "metadata": {},
          "execution_count": 12
        }
      ]
    },
    {
      "cell_type": "code",
      "source": [
        "x = data1.drop([\"Personality\"] , axis = 1)\n",
        "y = data1[\"Personality\"]\n",
        "\n",
        "x_train , x_test , y_train , y_test = train_test_split(x,y,test_size = 0.2,random_state=1)"
      ],
      "metadata": {
        "id": "GJtPClCZ2ISl"
      },
      "execution_count": 13,
      "outputs": []
    },
    {
      "cell_type": "code",
      "source": [
        "model_tree = DecisionTreeClassifier()\n",
        "model_tree= model_tree.fit(x_train,y_train)\n",
        "y_pred = model_tree.predict(x_test)\n",
        "y_pred"
      ],
      "metadata": {
        "colab": {
          "base_uri": "https://localhost:8080/"
        },
        "id": "ST6La0Oi1rwj",
        "outputId": "e6eda25f-ac10-4b47-80f7-48a7b1c433fe"
      },
      "execution_count": 14,
      "outputs": [
        {
          "output_type": "execute_result",
          "data": {
            "text/plain": [
              "array([3, 9, 1, ..., 1, 2, 1])"
            ]
          },
          "metadata": {},
          "execution_count": 14
        }
      ]
    },
    {
      "cell_type": "code",
      "source": [
        "tree.plot_tree(model_tree)"
      ],
      "metadata": {
        "id": "cBsYWpvERI4P"
      },
      "execution_count": null,
      "outputs": []
    },
    {
      "cell_type": "code",
      "source": [
        "accuracy = metrics.accuracy_score(y_test,y_pred)\n",
        "accuracy"
      ],
      "metadata": {
        "colab": {
          "base_uri": "https://localhost:8080/"
        },
        "id": "_V0VF-iB17Q2",
        "outputId": "849a5a91-763d-4412-c4ba-2d281613ba65"
      },
      "execution_count": null,
      "outputs": [
        {
          "output_type": "execute_result",
          "data": {
            "text/plain": [
              "0.8739702494826845"
            ]
          },
          "metadata": {},
          "execution_count": 12
        }
      ]
    },
    {
      "cell_type": "code",
      "source": [
        "model_tree.score(x_test,y_test)"
      ],
      "metadata": {
        "colab": {
          "base_uri": "https://localhost:8080/"
        },
        "id": "aQnjAYOu3sI_",
        "outputId": "11deb1b9-f80f-4e7e-d35e-f6fe84f44722"
      },
      "execution_count": null,
      "outputs": [
        {
          "output_type": "execute_result",
          "data": {
            "text/plain": [
              "0.8739702494826845"
            ]
          },
          "metadata": {},
          "execution_count": 13
        }
      ]
    },
    {
      "cell_type": "code",
      "source": [
        "model_tree = DecisionTreeClassifier(criterion=\"entropy\" , max_depth=3)\n",
        "model_tree= model_tree.fit(x_train,y_train)\n",
        "y_pred = model_tree.predict(x_test)\n",
        "y_pred"
      ],
      "metadata": {
        "colab": {
          "base_uri": "https://localhost:8080/"
        },
        "id": "CQ5T9XZI8ycE",
        "outputId": "873417c8-d6b6-479d-ceff-dc2af8365c15"
      },
      "execution_count": null,
      "outputs": [
        {
          "output_type": "execute_result",
          "data": {
            "text/plain": [
              "array([ 3, 11,  1, ...,  1,  3,  1])"
            ]
          },
          "metadata": {},
          "execution_count": 14
        }
      ]
    },
    {
      "cell_type": "code",
      "source": [
        "model_tree.score(x_test,y_pred)"
      ],
      "metadata": {
        "colab": {
          "base_uri": "https://localhost:8080/"
        },
        "id": "WrNkq7X3LAVr",
        "outputId": "c77cb38a-c02d-4005-8f96-0dae3b70625a"
      },
      "execution_count": null,
      "outputs": [
        {
          "output_type": "execute_result",
          "data": {
            "text/plain": [
              "1.0"
            ]
          },
          "metadata": {},
          "execution_count": 16
        }
      ]
    },
    {
      "cell_type": "code",
      "source": [
        "tree.plot_tree(model_tree)"
      ],
      "metadata": {
        "colab": {
          "base_uri": "https://localhost:8080/",
          "height": 979
        },
        "id": "8amZaUwZLErG",
        "outputId": "36f47bcd-2894-4df5-abf9-2174aa9576e0"
      },
      "execution_count": null,
      "outputs": [
        {
          "output_type": "execute_result",
          "data": {
            "text/plain": [
              "[Text(0.5, 0.875, 'x[5] <= 5.501\\nentropy = 2.968\\nsamples = 102448\\nvalue = [3117.0, 27503.0, 2236.0, 19766.0, 430.0, 3843.0, 316.0\\n2682.0, 2369.0, 19756.0, 1567.0, 13718.0, 290.0, 2762.0\\n200.0, 1893.0]'),\n",
              " Text(0.25, 0.625, 'x[3] <= 4.599\\nentropy = 2.113\\nsamples = 56529\\nvalue = [2888.0, 25580.0, 45.0, 504.0, 409.0, 3565.0, 3.0, 67.0\\n2180.0, 18162.0, 23.0, 261.0, 261.0, 2542.0, 5.0, 34.0]'),\n",
              " Text(0.375, 0.75, 'True  '),\n",
              " Text(0.125, 0.375, 'x[4] <= 6.1\\nentropy = 1.713\\nsamples = 26088\\nvalue = [305, 2760, 8, 83, 45, 389, 0, 11, 2087, 17390, 23\\n261, 240, 2447, 5, 34]'),\n",
              " Text(0.0625, 0.125, 'entropy = 1.189\\nsamples = 20998\\nvalue = [285.0, 2531.0, 8.0, 80.0, 0.0, 0.0, 0.0, 0.0, 1912.0\\n15919.0, 22.0, 241.0, 0.0, 0.0, 0.0, 0.0]'),\n",
              " Text(0.1875, 0.125, 'entropy = 2.094\\nsamples = 5090\\nvalue = [20.0, 229.0, 0.0, 3.0, 45.0, 389.0, 0.0, 11.0, 175.0\\n1471.0, 1.0, 20.0, 240.0, 2447.0, 5.0, 34.0]'),\n",
              " Text(0.375, 0.375, 'x[4] <= 6.1\\nentropy = 1.339\\nsamples = 30441\\nvalue = [2583, 22820, 37, 421, 364, 3176, 3, 56, 93, 772, 0\\n0, 21, 95, 0, 0]'),\n",
              " Text(0.3125, 0.125, 'entropy = 0.805\\nsamples = 24539\\nvalue = [2377, 20948, 37, 381, 0, 0, 0, 0, 84, 712, 0, 0\\n0, 0, 0, 0]'),\n",
              " Text(0.4375, 0.125, 'entropy = 1.748\\nsamples = 5902\\nvalue = [206.0, 1872.0, 0.0, 40.0, 364.0, 3176.0, 3.0, 56.0\\n9.0, 60.0, 0.0, 0.0, 21.0, 95.0, 0.0, 0.0]'),\n",
              " Text(0.75, 0.625, 'x[3] <= 4.594\\nentropy = 2.448\\nsamples = 45919\\nvalue = [229.0, 1923.0, 2191.0, 19262.0, 21.0, 278.0, 313.0\\n2615.0, 189.0, 1594.0, 1544.0, 13457.0, 29.0, 220.0\\n195.0, 1859.0]'),\n",
              " Text(0.625, 0.75, '  False'),\n",
              " Text(0.625, 0.375, 'x[4] <= 6.1\\nentropy = 2.033\\nsamples = 21142\\nvalue = [17.0, 115.0, 240.0, 2215.0, 0.0, 12.0, 30.0, 290.0\\n180.0, 1473.0, 1474.0, 12903.0, 27.0, 202.0, 183.0\\n1781.0]'),\n",
              " Text(0.5625, 0.125, 'entropy = 1.514\\nsamples = 17082\\nvalue = [17, 101, 225, 2024, 0, 0, 0, 0, 164, 1353, 1369\\n11829, 0, 0, 0, 0]'),\n",
              " Text(0.6875, 0.125, 'entropy = 2.427\\nsamples = 4060\\nvalue = [0.0, 14.0, 15.0, 191.0, 0.0, 12.0, 30.0, 290.0, 16.0\\n120.0, 105.0, 1074.0, 27.0, 202.0, 183.0, 1781.0]'),\n",
              " Text(0.875, 0.375, 'x[4] <= 6.1\\nentropy = 1.695\\nsamples = 24777\\nvalue = [212.0, 1808.0, 1951.0, 17047.0, 21.0, 266.0, 283.0\\n2325.0, 9.0, 121.0, 70.0, 554.0, 2.0, 18.0, 12.0, 78.0]'),\n",
              " Text(0.8125, 0.125, 'entropy = 1.157\\nsamples = 20003\\nvalue = [197.0, 1642.0, 1785.0, 15683.0, 0.0, 0.0, 0.0, 0.0\\n8.0, 113.0, 67.0, 508.0, 0.0, 0.0, 0.0, 0.0]'),\n",
              " Text(0.9375, 0.125, 'entropy = 2.136\\nsamples = 4774\\nvalue = [15.0, 166.0, 166.0, 1364.0, 21.0, 266.0, 283.0, 2325.0\\n1.0, 8.0, 3.0, 46.0, 2.0, 18.0, 12.0, 78.0]')]"
            ]
          },
          "metadata": {},
          "execution_count": 17
        },
        {
          "output_type": "display_data",
          "data": {
            "text/plain": [
              "<Figure size 640x480 with 1 Axes>"
            ],
            "image/png": "[encoded data removed]"
          },
          "metadata": {}
        }
      ]
    },
    {
      "cell_type": "code",
      "source": [],
      "metadata": {
        "id": "EjyAbrhVQyd9"
      },
      "execution_count": null,
      "outputs": []
    }
  ]
}